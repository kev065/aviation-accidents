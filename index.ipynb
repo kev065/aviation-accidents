{
 "cells": [
  {
   "cell_type": "markdown",
   "metadata": {},
   "source": [
    "# Airplane Accidents Analysis"
   ]
  },
  {
   "cell_type": "code",
   "execution_count": 10,
   "metadata": {},
   "outputs": [],
   "source": [
    "# Import packages\n",
    "import matplotlib.pyplot as plt\n",
    "import numpy as np\n",
    "import pandas as pd\n",
    "import seaborn as sns"
   ]
  },
  {
   "cell_type": "markdown",
   "metadata": {},
   "source": [
    "## Load the data\n",
    "Load the data with the latin 1 encoding. \n",
    "When attempting to load the dataset, I faced a UnicodeDecodeError. This error typically occurs when the dataset contains characters that are not compatible with the utf-8, the default encoding used by the pd.read_csv() function.\n",
    "The latin1 encoding is a common alternative to try because it can bypass many encoding-related issues without needing to know the exact encoding of the file."
   ]
  },
  {
   "cell_type": "code",
   "execution_count": 20,
   "metadata": {},
   "outputs": [
    {
     "data": {
      "text/html": [
       "<div>\n",
       "<style scoped>\n",
       "    .dataframe tbody tr th:only-of-type {\n",
       "        vertical-align: middle;\n",
       "    }\n",
       "\n",
       "    .dataframe tbody tr th {\n",
       "        vertical-align: top;\n",
       "    }\n",
       "\n",
       "    .dataframe thead th {\n",
       "        text-align: right;\n",
       "    }\n",
       "</style>\n",
       "<table border=\"1\" class=\"dataframe\">\n",
       "  <thead>\n",
       "    <tr style=\"text-align: right;\">\n",
       "      <th></th>\n",
       "      <th>Event.Id</th>\n",
       "      <th>Investigation.Type</th>\n",
       "      <th>Accident.Number</th>\n",
       "      <th>Event.Date</th>\n",
       "      <th>Location</th>\n",
       "      <th>Country</th>\n",
       "      <th>Latitude</th>\n",
       "      <th>Longitude</th>\n",
       "      <th>Airport.Code</th>\n",
       "      <th>Airport.Name</th>\n",
       "      <th>...</th>\n",
       "      <th>Purpose.of.flight</th>\n",
       "      <th>Air.carrier</th>\n",
       "      <th>Total.Fatal.Injuries</th>\n",
       "      <th>Total.Serious.Injuries</th>\n",
       "      <th>Total.Minor.Injuries</th>\n",
       "      <th>Total.Uninjured</th>\n",
       "      <th>Weather.Condition</th>\n",
       "      <th>Broad.phase.of.flight</th>\n",
       "      <th>Report.Status</th>\n",
       "      <th>Publication.Date</th>\n",
       "    </tr>\n",
       "  </thead>\n",
       "  <tbody>\n",
       "    <tr>\n",
       "      <th>0</th>\n",
       "      <td>20001218X45444</td>\n",
       "      <td>Accident</td>\n",
       "      <td>SEA87LA080</td>\n",
       "      <td>1948-10-24</td>\n",
       "      <td>MOOSE CREEK, ID</td>\n",
       "      <td>United States</td>\n",
       "      <td>NaN</td>\n",
       "      <td>NaN</td>\n",
       "      <td>NaN</td>\n",
       "      <td>NaN</td>\n",
       "      <td>...</td>\n",
       "      <td>Personal</td>\n",
       "      <td>NaN</td>\n",
       "      <td>2.0</td>\n",
       "      <td>0.0</td>\n",
       "      <td>0.0</td>\n",
       "      <td>0.0</td>\n",
       "      <td>UNK</td>\n",
       "      <td>Cruise</td>\n",
       "      <td>Probable Cause</td>\n",
       "      <td>NaN</td>\n",
       "    </tr>\n",
       "    <tr>\n",
       "      <th>1</th>\n",
       "      <td>20001218X45447</td>\n",
       "      <td>Accident</td>\n",
       "      <td>LAX94LA336</td>\n",
       "      <td>1962-07-19</td>\n",
       "      <td>BRIDGEPORT, CA</td>\n",
       "      <td>United States</td>\n",
       "      <td>NaN</td>\n",
       "      <td>NaN</td>\n",
       "      <td>NaN</td>\n",
       "      <td>NaN</td>\n",
       "      <td>...</td>\n",
       "      <td>Personal</td>\n",
       "      <td>NaN</td>\n",
       "      <td>4.0</td>\n",
       "      <td>0.0</td>\n",
       "      <td>0.0</td>\n",
       "      <td>0.0</td>\n",
       "      <td>UNK</td>\n",
       "      <td>Unknown</td>\n",
       "      <td>Probable Cause</td>\n",
       "      <td>19-09-1996</td>\n",
       "    </tr>\n",
       "    <tr>\n",
       "      <th>2</th>\n",
       "      <td>20061025X01555</td>\n",
       "      <td>Accident</td>\n",
       "      <td>NYC07LA005</td>\n",
       "      <td>1974-08-30</td>\n",
       "      <td>Saltville, VA</td>\n",
       "      <td>United States</td>\n",
       "      <td>36.922223</td>\n",
       "      <td>-81.878056</td>\n",
       "      <td>NaN</td>\n",
       "      <td>NaN</td>\n",
       "      <td>...</td>\n",
       "      <td>Personal</td>\n",
       "      <td>NaN</td>\n",
       "      <td>3.0</td>\n",
       "      <td>NaN</td>\n",
       "      <td>NaN</td>\n",
       "      <td>NaN</td>\n",
       "      <td>IMC</td>\n",
       "      <td>Cruise</td>\n",
       "      <td>Probable Cause</td>\n",
       "      <td>26-02-2007</td>\n",
       "    </tr>\n",
       "    <tr>\n",
       "      <th>3</th>\n",
       "      <td>20001218X45448</td>\n",
       "      <td>Accident</td>\n",
       "      <td>LAX96LA321</td>\n",
       "      <td>1977-06-19</td>\n",
       "      <td>EUREKA, CA</td>\n",
       "      <td>United States</td>\n",
       "      <td>NaN</td>\n",
       "      <td>NaN</td>\n",
       "      <td>NaN</td>\n",
       "      <td>NaN</td>\n",
       "      <td>...</td>\n",
       "      <td>Personal</td>\n",
       "      <td>NaN</td>\n",
       "      <td>2.0</td>\n",
       "      <td>0.0</td>\n",
       "      <td>0.0</td>\n",
       "      <td>0.0</td>\n",
       "      <td>IMC</td>\n",
       "      <td>Cruise</td>\n",
       "      <td>Probable Cause</td>\n",
       "      <td>12-09-2000</td>\n",
       "    </tr>\n",
       "    <tr>\n",
       "      <th>4</th>\n",
       "      <td>20041105X01764</td>\n",
       "      <td>Accident</td>\n",
       "      <td>CHI79FA064</td>\n",
       "      <td>1979-08-02</td>\n",
       "      <td>Canton, OH</td>\n",
       "      <td>United States</td>\n",
       "      <td>NaN</td>\n",
       "      <td>NaN</td>\n",
       "      <td>NaN</td>\n",
       "      <td>NaN</td>\n",
       "      <td>...</td>\n",
       "      <td>Personal</td>\n",
       "      <td>NaN</td>\n",
       "      <td>1.0</td>\n",
       "      <td>2.0</td>\n",
       "      <td>NaN</td>\n",
       "      <td>0.0</td>\n",
       "      <td>VMC</td>\n",
       "      <td>Approach</td>\n",
       "      <td>Probable Cause</td>\n",
       "      <td>16-04-1980</td>\n",
       "    </tr>\n",
       "  </tbody>\n",
       "</table>\n",
       "<p>5 rows × 31 columns</p>\n",
       "</div>"
      ],
      "text/plain": [
       "         Event.Id Investigation.Type Accident.Number  Event.Date  \\\n",
       "0  20001218X45444           Accident      SEA87LA080  1948-10-24   \n",
       "1  20001218X45447           Accident      LAX94LA336  1962-07-19   \n",
       "2  20061025X01555           Accident      NYC07LA005  1974-08-30   \n",
       "3  20001218X45448           Accident      LAX96LA321  1977-06-19   \n",
       "4  20041105X01764           Accident      CHI79FA064  1979-08-02   \n",
       "\n",
       "          Location        Country   Latitude   Longitude Airport.Code  \\\n",
       "0  MOOSE CREEK, ID  United States        NaN         NaN          NaN   \n",
       "1   BRIDGEPORT, CA  United States        NaN         NaN          NaN   \n",
       "2    Saltville, VA  United States  36.922223  -81.878056          NaN   \n",
       "3       EUREKA, CA  United States        NaN         NaN          NaN   \n",
       "4       Canton, OH  United States        NaN         NaN          NaN   \n",
       "\n",
       "  Airport.Name  ... Purpose.of.flight Air.carrier Total.Fatal.Injuries  \\\n",
       "0          NaN  ...          Personal         NaN                  2.0   \n",
       "1          NaN  ...          Personal         NaN                  4.0   \n",
       "2          NaN  ...          Personal         NaN                  3.0   \n",
       "3          NaN  ...          Personal         NaN                  2.0   \n",
       "4          NaN  ...          Personal         NaN                  1.0   \n",
       "\n",
       "  Total.Serious.Injuries Total.Minor.Injuries Total.Uninjured  \\\n",
       "0                    0.0                  0.0             0.0   \n",
       "1                    0.0                  0.0             0.0   \n",
       "2                    NaN                  NaN             NaN   \n",
       "3                    0.0                  0.0             0.0   \n",
       "4                    2.0                  NaN             0.0   \n",
       "\n",
       "  Weather.Condition  Broad.phase.of.flight   Report.Status Publication.Date  \n",
       "0               UNK                 Cruise  Probable Cause              NaN  \n",
       "1               UNK                Unknown  Probable Cause       19-09-1996  \n",
       "2               IMC                 Cruise  Probable Cause       26-02-2007  \n",
       "3               IMC                 Cruise  Probable Cause       12-09-2000  \n",
       "4               VMC               Approach  Probable Cause       16-04-1980  \n",
       "\n",
       "[5 rows x 31 columns]"
      ]
     },
     "execution_count": 20,
     "metadata": {},
     "output_type": "execute_result"
    }
   ],
   "source": [
    "# Loads the data\n",
    "aviation_accidents_df = pd.read_csv('data/AviationData.csv', encoding='latin-1', low_memory=False)\n",
    "aviation_accidents_df.head()"
   ]
  },
  {
   "cell_type": "markdown",
   "metadata": {},
   "source": [
    "## Inspect the data\n",
    "Inspect the data to get an overview of the dataset and check for missing values."
   ]
  },
  {
   "cell_type": "code",
   "execution_count": 22,
   "metadata": {},
   "outputs": [
    {
     "name": "stdout",
     "output_type": "stream",
     "text": [
      "<class 'pandas.core.frame.DataFrame'>\n",
      "RangeIndex: 88889 entries, 0 to 88888\n",
      "Data columns (total 31 columns):\n",
      " #   Column                  Non-Null Count  Dtype  \n",
      "---  ------                  --------------  -----  \n",
      " 0   Event.Id                88889 non-null  object \n",
      " 1   Investigation.Type      88889 non-null  object \n",
      " 2   Accident.Number         88889 non-null  object \n",
      " 3   Event.Date              88889 non-null  object \n",
      " 4   Location                88837 non-null  object \n",
      " 5   Country                 88663 non-null  object \n",
      " 6   Latitude                34382 non-null  object \n",
      " 7   Longitude               34373 non-null  object \n",
      " 8   Airport.Code            50132 non-null  object \n",
      " 9   Airport.Name            52704 non-null  object \n",
      " 10  Injury.Severity         87889 non-null  object \n",
      " 11  Aircraft.damage         85695 non-null  object \n",
      " 12  Aircraft.Category       32287 non-null  object \n",
      " 13  Registration.Number     87507 non-null  object \n",
      " 14  Make                    88826 non-null  object \n",
      " 15  Model                   88797 non-null  object \n",
      " 16  Amateur.Built           88787 non-null  object \n",
      " 17  Number.of.Engines       82805 non-null  float64\n",
      " 18  Engine.Type             81793 non-null  object \n",
      " 19  FAR.Description         32023 non-null  object \n",
      " 20  Schedule                12582 non-null  object \n",
      " 21  Purpose.of.flight       82697 non-null  object \n",
      " 22  Air.carrier             16648 non-null  object \n",
      " 23  Total.Fatal.Injuries    77488 non-null  float64\n",
      " 24  Total.Serious.Injuries  76379 non-null  float64\n",
      " 25  Total.Minor.Injuries    76956 non-null  float64\n",
      " 26  Total.Uninjured         82977 non-null  float64\n",
      " 27  Weather.Condition       84397 non-null  object \n",
      " 28  Broad.phase.of.flight   61724 non-null  object \n",
      " 29  Report.Status           82505 non-null  object \n",
      " 30  Publication.Date        75118 non-null  object \n",
      "dtypes: float64(5), object(26)\n",
      "memory usage: 21.0+ MB\n"
     ]
    }
   ],
   "source": [
    "# Gets an overview of the dataset\n",
    "aviation_accidents_df.info()"
   ]
  },
  {
   "cell_type": "code",
   "execution_count": 23,
   "metadata": {},
   "outputs": [
    {
     "data": {
      "text/plain": [
       "Event.Id                      0\n",
       "Investigation.Type            0\n",
       "Accident.Number               0\n",
       "Event.Date                    0\n",
       "Location                     52\n",
       "Country                     226\n",
       "Latitude                  54507\n",
       "Longitude                 54516\n",
       "Airport.Code              38757\n",
       "Airport.Name              36185\n",
       "Injury.Severity            1000\n",
       "Aircraft.damage            3194\n",
       "Aircraft.Category         56602\n",
       "Registration.Number        1382\n",
       "Make                         63\n",
       "Model                        92\n",
       "Amateur.Built               102\n",
       "Number.of.Engines          6084\n",
       "Engine.Type                7096\n",
       "FAR.Description           56866\n",
       "Schedule                  76307\n",
       "Purpose.of.flight          6192\n",
       "Air.carrier               72241\n",
       "Total.Fatal.Injuries      11401\n",
       "Total.Serious.Injuries    12510\n",
       "Total.Minor.Injuries      11933\n",
       "Total.Uninjured            5912\n",
       "Weather.Condition          4492\n",
       "Broad.phase.of.flight     27165\n",
       "Report.Status              6384\n",
       "Publication.Date          13771\n",
       "dtype: int64"
      ]
     },
     "execution_count": 23,
     "metadata": {},
     "output_type": "execute_result"
    }
   ],
   "source": [
    "# Finds number of missing values\n",
    "aviation_accidents_df.isnull().sum()"
   ]
  },
  {
   "cell_type": "code",
   "execution_count": 24,
   "metadata": {},
   "outputs": [
    {
     "data": {
      "text/html": [
       "<div>\n",
       "<style scoped>\n",
       "    .dataframe tbody tr th:only-of-type {\n",
       "        vertical-align: middle;\n",
       "    }\n",
       "\n",
       "    .dataframe tbody tr th {\n",
       "        vertical-align: top;\n",
       "    }\n",
       "\n",
       "    .dataframe thead th {\n",
       "        text-align: right;\n",
       "    }\n",
       "</style>\n",
       "<table border=\"1\" class=\"dataframe\">\n",
       "  <thead>\n",
       "    <tr style=\"text-align: right;\">\n",
       "      <th></th>\n",
       "      <th>Number.of.Engines</th>\n",
       "      <th>Total.Fatal.Injuries</th>\n",
       "      <th>Total.Serious.Injuries</th>\n",
       "      <th>Total.Minor.Injuries</th>\n",
       "      <th>Total.Uninjured</th>\n",
       "    </tr>\n",
       "  </thead>\n",
       "  <tbody>\n",
       "    <tr>\n",
       "      <th>count</th>\n",
       "      <td>82805.000000</td>\n",
       "      <td>77488.000000</td>\n",
       "      <td>76379.000000</td>\n",
       "      <td>76956.000000</td>\n",
       "      <td>82977.000000</td>\n",
       "    </tr>\n",
       "    <tr>\n",
       "      <th>mean</th>\n",
       "      <td>1.146585</td>\n",
       "      <td>0.647855</td>\n",
       "      <td>0.279881</td>\n",
       "      <td>0.357061</td>\n",
       "      <td>5.325440</td>\n",
       "    </tr>\n",
       "    <tr>\n",
       "      <th>std</th>\n",
       "      <td>0.446510</td>\n",
       "      <td>5.485960</td>\n",
       "      <td>1.544084</td>\n",
       "      <td>2.235625</td>\n",
       "      <td>27.913634</td>\n",
       "    </tr>\n",
       "    <tr>\n",
       "      <th>min</th>\n",
       "      <td>0.000000</td>\n",
       "      <td>0.000000</td>\n",
       "      <td>0.000000</td>\n",
       "      <td>0.000000</td>\n",
       "      <td>0.000000</td>\n",
       "    </tr>\n",
       "    <tr>\n",
       "      <th>25%</th>\n",
       "      <td>1.000000</td>\n",
       "      <td>0.000000</td>\n",
       "      <td>0.000000</td>\n",
       "      <td>0.000000</td>\n",
       "      <td>0.000000</td>\n",
       "    </tr>\n",
       "    <tr>\n",
       "      <th>50%</th>\n",
       "      <td>1.000000</td>\n",
       "      <td>0.000000</td>\n",
       "      <td>0.000000</td>\n",
       "      <td>0.000000</td>\n",
       "      <td>1.000000</td>\n",
       "    </tr>\n",
       "    <tr>\n",
       "      <th>75%</th>\n",
       "      <td>1.000000</td>\n",
       "      <td>0.000000</td>\n",
       "      <td>0.000000</td>\n",
       "      <td>0.000000</td>\n",
       "      <td>2.000000</td>\n",
       "    </tr>\n",
       "    <tr>\n",
       "      <th>max</th>\n",
       "      <td>8.000000</td>\n",
       "      <td>349.000000</td>\n",
       "      <td>161.000000</td>\n",
       "      <td>380.000000</td>\n",
       "      <td>699.000000</td>\n",
       "    </tr>\n",
       "  </tbody>\n",
       "</table>\n",
       "</div>"
      ],
      "text/plain": [
       "       Number.of.Engines  Total.Fatal.Injuries  Total.Serious.Injuries  \\\n",
       "count       82805.000000          77488.000000            76379.000000   \n",
       "mean            1.146585              0.647855                0.279881   \n",
       "std             0.446510              5.485960                1.544084   \n",
       "min             0.000000              0.000000                0.000000   \n",
       "25%             1.000000              0.000000                0.000000   \n",
       "50%             1.000000              0.000000                0.000000   \n",
       "75%             1.000000              0.000000                0.000000   \n",
       "max             8.000000            349.000000              161.000000   \n",
       "\n",
       "       Total.Minor.Injuries  Total.Uninjured  \n",
       "count          76956.000000     82977.000000  \n",
       "mean               0.357061         5.325440  \n",
       "std                2.235625        27.913634  \n",
       "min                0.000000         0.000000  \n",
       "25%                0.000000         0.000000  \n",
       "50%                0.000000         1.000000  \n",
       "75%                0.000000         2.000000  \n",
       "max              380.000000       699.000000  "
      ]
     },
     "execution_count": 24,
     "metadata": {},
     "output_type": "execute_result"
    }
   ],
   "source": [
    "# Calculates statistics for each column\n",
    "aviation_accidents_df.describe()"
   ]
  },
  {
   "cell_type": "markdown",
   "metadata": {},
   "source": [
    "## Data Cleaning\n",
    "1. Check for duplicate values\n",
    "2. Remove unnecessary columns and missing values\n",
    "3. Convert columns to appropriate data types\n",
    "4. Create 3 new columns that will be essential for data analysis: Total Passengers, Fatal Injury Rate and Total Uninjured Rate"
   ]
  },
  {
   "cell_type": "code",
   "execution_count": 25,
   "metadata": {},
   "outputs": [],
   "source": [
    "# Makes a copy of the dataset \n",
    "aviation_accidents_df_copy = aviation_accidents_df.copy()"
   ]
  },
  {
   "cell_type": "code",
   "execution_count": 28,
   "metadata": {},
   "outputs": [
    {
     "data": {
      "text/plain": [
       "0"
      ]
     },
     "execution_count": 28,
     "metadata": {},
     "output_type": "execute_result"
    }
   ],
   "source": [
    "# checks for duplicate values\n",
    "aviation_accidents_df_copy.duplicated().sum()"
   ]
  },
  {
   "cell_type": "code",
   "execution_count": 32,
   "metadata": {},
   "outputs": [
    {
     "data": {
      "text/plain": [
       "Index(['Event_Id', 'Investigation_Type', 'Accident_Number', 'Event_Date',\n",
       "       'Location', 'Country', 'Latitude', 'Longitude', 'Airport_Code',\n",
       "       'Airport_Name', 'Injury_Severity', 'Aircraft_Damage',\n",
       "       'Aircraft_Category', 'Registration_Number', 'Make', 'Model',\n",
       "       'Amateur_Built', 'Number_Of_Engines', 'Engine_Type', 'Far_Description',\n",
       "       'Schedule', 'Purpose_Of_Flight', 'Air_Carrier', 'Total_Fatal_Injuries',\n",
       "       'Total_Serious_Injuries', 'Total_Minor_Injuries', 'Total_Uninjured',\n",
       "       'Weather_Condition', 'Broad_Phase_Of_Flight', 'Report_Status',\n",
       "       'Publication_Date'],\n",
       "      dtype='object')"
      ]
     },
     "execution_count": 32,
     "metadata": {},
     "output_type": "execute_result"
    }
   ],
   "source": [
    "# Cleans column names by replacing dots with underscores\n",
    "# and capitalizes the first letter of each word in column names\n",
    "aviation_accidents_df_copy.columns = aviation_accidents_df_copy.columns.str.replace('.', '_').str.title()\n",
    "aviation_accidents_df_copy.columns"
   ]
  },
  {
   "cell_type": "code",
   "execution_count": 40,
   "metadata": {},
   "outputs": [
    {
     "data": {
      "text/plain": [
       "0        <class 'str'>\n",
       "1        <class 'str'>\n",
       "2        <class 'str'>\n",
       "3        <class 'str'>\n",
       "4        <class 'str'>\n",
       "             ...      \n",
       "88884    <class 'str'>\n",
       "88885    <class 'str'>\n",
       "88886    <class 'str'>\n",
       "88887    <class 'str'>\n",
       "88888    <class 'str'>\n",
       "Name: Model, Length: 88889, dtype: object"
      ]
     },
     "execution_count": 40,
     "metadata": {},
     "output_type": "execute_result"
    }
   ],
   "source": [
    "# checks the data types of each value in the 'Model' column\n",
    "aviation_accidents_df_copy['Model'].apply(type)"
   ]
  },
  {
   "cell_type": "code",
   "execution_count": 41,
   "metadata": {},
   "outputs": [
    {
     "data": {
      "text/plain": [
       "Model\n",
       "<class 'str'>      88797\n",
       "<class 'float'>       92\n",
       "Name: count, dtype: int64"
      ]
     },
     "execution_count": 41,
     "metadata": {},
     "output_type": "execute_result"
    }
   ],
   "source": [
    "# checks the count of each data type in the 'Model' column\n",
    "aviation_accidents_df_copy['Model'].apply(type).value_counts()"
   ]
  },
  {
   "cell_type": "code",
   "execution_count": 44,
   "metadata": {},
   "outputs": [],
   "source": [
    "# Converts 'Model' column values to strings and replaces spaces with hyphens\n",
    "aviation_accidents_df_copy['Model'] = aviation_accidents_df_copy['Model'].astype(str).str.replace(' ', '-')"
   ]
  },
  {
   "cell_type": "code",
   "execution_count": null,
   "metadata": {},
   "outputs": [],
   "source": [
    "# Drops unneeded columns: Latitude, Longitude, Schedule, Air_Carrier, Aircraft_Category, Far_Description\n",
    "aviation_accidents_df_copy.drop(columns=['Latitude', 'Longitude', 'Schedule', 'Air_Carrier', 'Aircraft_Category', 'Far_Description'], inplace=True)"
   ]
  },
  {
   "cell_type": "code",
   "execution_count": 45,
   "metadata": {},
   "outputs": [],
   "source": [
    "# Creates a new column 'Total_Passengers'\n",
    "aviation_accidents_df_copy['Total_Passengers'] = aviation_accidents_df_copy['Total_Fatal_Injuries'] + aviation_accidents_df_copy['Total_Serious_Injuries'] + aviation_accidents_df_copy['Total_Minor_Injuries'] + aviation_accidents_df_copy['Total_Uninjured']"
   ]
  },
  {
   "cell_type": "code",
   "execution_count": 46,
   "metadata": {},
   "outputs": [],
   "source": [
    "# Creates a new column with proportion of fatal injuries per accident\n",
    "aviation_accidents_df_copy['Fatal_Injury_Proportion'] = aviation_accidents_df_copy['Total_Fatal_Injuries'] / aviation_accidents_df_copy['Total_Passengers']"
   ]
  },
  {
   "cell_type": "code",
   "execution_count": 47,
   "metadata": {},
   "outputs": [],
   "source": [
    "# Create a new column with proportion of uninjured per accident\n",
    "aviation_accidents_df_copy['Uninjured_Proportion'] = aviation_accidents_df_copy['Total_Uninjured'] / aviation_accidents_df_copy['Total_Passengers']"
   ]
  },
  {
   "cell_type": "code",
   "execution_count": 48,
   "metadata": {},
   "outputs": [
    {
     "data": {
      "text/html": [
       "<div>\n",
       "<style scoped>\n",
       "    .dataframe tbody tr th:only-of-type {\n",
       "        vertical-align: middle;\n",
       "    }\n",
       "\n",
       "    .dataframe tbody tr th {\n",
       "        vertical-align: top;\n",
       "    }\n",
       "\n",
       "    .dataframe thead th {\n",
       "        text-align: right;\n",
       "    }\n",
       "</style>\n",
       "<table border=\"1\" class=\"dataframe\">\n",
       "  <thead>\n",
       "    <tr style=\"text-align: right;\">\n",
       "      <th></th>\n",
       "      <th>Event_Id</th>\n",
       "      <th>Investigation_Type</th>\n",
       "      <th>Accident_Number</th>\n",
       "      <th>Event_Date</th>\n",
       "      <th>Location</th>\n",
       "      <th>Country</th>\n",
       "      <th>Latitude</th>\n",
       "      <th>Longitude</th>\n",
       "      <th>Airport_Code</th>\n",
       "      <th>Airport_Name</th>\n",
       "      <th>...</th>\n",
       "      <th>Total_Serious_Injuries</th>\n",
       "      <th>Total_Minor_Injuries</th>\n",
       "      <th>Total_Uninjured</th>\n",
       "      <th>Weather_Condition</th>\n",
       "      <th>Broad_Phase_Of_Flight</th>\n",
       "      <th>Report_Status</th>\n",
       "      <th>Publication_Date</th>\n",
       "      <th>Total_Passengers</th>\n",
       "      <th>Fatal_Injury_Proportion</th>\n",
       "      <th>Uninjured_Proportion</th>\n",
       "    </tr>\n",
       "  </thead>\n",
       "  <tbody>\n",
       "    <tr>\n",
       "      <th>54409</th>\n",
       "      <td>20030411X00490</td>\n",
       "      <td>Accident</td>\n",
       "      <td>LAX03FA124</td>\n",
       "      <td>2003-04-04</td>\n",
       "      <td>North Las Vegas, NV</td>\n",
       "      <td>United States</td>\n",
       "      <td>36.293055</td>\n",
       "      <td>-115.348055</td>\n",
       "      <td>KVGT</td>\n",
       "      <td>North Las Vegas Airport</td>\n",
       "      <td>...</td>\n",
       "      <td>NaN</td>\n",
       "      <td>NaN</td>\n",
       "      <td>NaN</td>\n",
       "      <td>VMC</td>\n",
       "      <td>Maneuvering</td>\n",
       "      <td>Probable Cause</td>\n",
       "      <td>07-07-2005</td>\n",
       "      <td>NaN</td>\n",
       "      <td>NaN</td>\n",
       "      <td>NaN</td>\n",
       "    </tr>\n",
       "    <tr>\n",
       "      <th>58631</th>\n",
       "      <td>20050721X01070</td>\n",
       "      <td>Accident</td>\n",
       "      <td>ANC05LA076</td>\n",
       "      <td>2005-05-14</td>\n",
       "      <td>DILLINGHAM, AK</td>\n",
       "      <td>United States</td>\n",
       "      <td>59.033333</td>\n",
       "      <td>-158.5</td>\n",
       "      <td>DLG</td>\n",
       "      <td>Dillingham</td>\n",
       "      <td>...</td>\n",
       "      <td>NaN</td>\n",
       "      <td>NaN</td>\n",
       "      <td>3.0</td>\n",
       "      <td>VMC</td>\n",
       "      <td>Landing</td>\n",
       "      <td>Probable Cause</td>\n",
       "      <td>20-12-2005</td>\n",
       "      <td>NaN</td>\n",
       "      <td>NaN</td>\n",
       "      <td>NaN</td>\n",
       "    </tr>\n",
       "    <tr>\n",
       "      <th>56725</th>\n",
       "      <td>20040615X00796</td>\n",
       "      <td>Accident</td>\n",
       "      <td>NYC04CA131</td>\n",
       "      <td>2004-05-25</td>\n",
       "      <td>NEW CASTLE, PA</td>\n",
       "      <td>United States</td>\n",
       "      <td>40.941111</td>\n",
       "      <td>-80.3475</td>\n",
       "      <td>NONE</td>\n",
       "      <td>NaN</td>\n",
       "      <td>...</td>\n",
       "      <td>NaN</td>\n",
       "      <td>NaN</td>\n",
       "      <td>1.0</td>\n",
       "      <td>VMC</td>\n",
       "      <td>Takeoff</td>\n",
       "      <td>Probable Cause</td>\n",
       "      <td>01-09-2004</td>\n",
       "      <td>NaN</td>\n",
       "      <td>NaN</td>\n",
       "      <td>NaN</td>\n",
       "    </tr>\n",
       "    <tr>\n",
       "      <th>57308</th>\n",
       "      <td>20040827X01297</td>\n",
       "      <td>Accident</td>\n",
       "      <td>NYC04LA194B</td>\n",
       "      <td>2004-08-17</td>\n",
       "      <td>Philadelphia, PA</td>\n",
       "      <td>United States</td>\n",
       "      <td>40.081667</td>\n",
       "      <td>-75.010556</td>\n",
       "      <td>PNE</td>\n",
       "      <td>Northeast Philadelphia Airport</td>\n",
       "      <td>...</td>\n",
       "      <td>NaN</td>\n",
       "      <td>NaN</td>\n",
       "      <td>2.0</td>\n",
       "      <td>VMC</td>\n",
       "      <td>Taxi</td>\n",
       "      <td>Probable Cause</td>\n",
       "      <td>28-04-2005</td>\n",
       "      <td>NaN</td>\n",
       "      <td>NaN</td>\n",
       "      <td>NaN</td>\n",
       "    </tr>\n",
       "    <tr>\n",
       "      <th>54466</th>\n",
       "      <td>20030423X00555</td>\n",
       "      <td>Accident</td>\n",
       "      <td>NYC03FA082</td>\n",
       "      <td>2003-04-12</td>\n",
       "      <td>Conesus, NY</td>\n",
       "      <td>United States</td>\n",
       "      <td>42.681111</td>\n",
       "      <td>-77.615833</td>\n",
       "      <td>NaN</td>\n",
       "      <td>NaN</td>\n",
       "      <td>...</td>\n",
       "      <td>NaN</td>\n",
       "      <td>NaN</td>\n",
       "      <td>NaN</td>\n",
       "      <td>VMC</td>\n",
       "      <td>Maneuvering</td>\n",
       "      <td>Probable Cause</td>\n",
       "      <td>08-06-2005</td>\n",
       "      <td>NaN</td>\n",
       "      <td>NaN</td>\n",
       "      <td>NaN</td>\n",
       "    </tr>\n",
       "    <tr>\n",
       "      <th>48307</th>\n",
       "      <td>20010606X01082</td>\n",
       "      <td>Accident</td>\n",
       "      <td>NYC00WA271</td>\n",
       "      <td>2000-05-05</td>\n",
       "      <td>Mattawa, Canada</td>\n",
       "      <td>Canada</td>\n",
       "      <td>NaN</td>\n",
       "      <td>NaN</td>\n",
       "      <td>NaN</td>\n",
       "      <td>NaN</td>\n",
       "      <td>...</td>\n",
       "      <td>NaN</td>\n",
       "      <td>NaN</td>\n",
       "      <td>NaN</td>\n",
       "      <td>IMC</td>\n",
       "      <td>NaN</td>\n",
       "      <td>Foreign</td>\n",
       "      <td>06-06-2001</td>\n",
       "      <td>NaN</td>\n",
       "      <td>NaN</td>\n",
       "      <td>NaN</td>\n",
       "    </tr>\n",
       "    <tr>\n",
       "      <th>55182</th>\n",
       "      <td>20030729X01212</td>\n",
       "      <td>Accident</td>\n",
       "      <td>CHI03LA225</td>\n",
       "      <td>2003-07-25</td>\n",
       "      <td>MADISON, WI</td>\n",
       "      <td>United States</td>\n",
       "      <td>43.105</td>\n",
       "      <td>-89.185555</td>\n",
       "      <td>87Y</td>\n",
       "      <td>Blackhawk Airfield</td>\n",
       "      <td>...</td>\n",
       "      <td>NaN</td>\n",
       "      <td>NaN</td>\n",
       "      <td>2.0</td>\n",
       "      <td>VMC</td>\n",
       "      <td>Takeoff</td>\n",
       "      <td>Probable Cause</td>\n",
       "      <td>29-07-2004</td>\n",
       "      <td>NaN</td>\n",
       "      <td>NaN</td>\n",
       "      <td>NaN</td>\n",
       "    </tr>\n",
       "    <tr>\n",
       "      <th>63174</th>\n",
       "      <td>20070928X01474</td>\n",
       "      <td>Accident</td>\n",
       "      <td>LAX07CA252</td>\n",
       "      <td>2007-08-15</td>\n",
       "      <td>OLYMPIA, WA</td>\n",
       "      <td>United States</td>\n",
       "      <td>46.969445</td>\n",
       "      <td>-122.9025</td>\n",
       "      <td>OLM</td>\n",
       "      <td>Olympia Airport</td>\n",
       "      <td>...</td>\n",
       "      <td>NaN</td>\n",
       "      <td>NaN</td>\n",
       "      <td>1.0</td>\n",
       "      <td>VMC</td>\n",
       "      <td>Landing</td>\n",
       "      <td>Probable Cause</td>\n",
       "      <td>29-11-2007</td>\n",
       "      <td>NaN</td>\n",
       "      <td>NaN</td>\n",
       "      <td>NaN</td>\n",
       "    </tr>\n",
       "    <tr>\n",
       "      <th>58232</th>\n",
       "      <td>20050303X00257</td>\n",
       "      <td>Accident</td>\n",
       "      <td>DEN05LA059</td>\n",
       "      <td>2005-02-26</td>\n",
       "      <td>KAYCEE, WY</td>\n",
       "      <td>United States</td>\n",
       "      <td>43.664722</td>\n",
       "      <td>-106.705556</td>\n",
       "      <td>NaN</td>\n",
       "      <td>NaN</td>\n",
       "      <td>...</td>\n",
       "      <td>NaN</td>\n",
       "      <td>NaN</td>\n",
       "      <td>NaN</td>\n",
       "      <td>VMC</td>\n",
       "      <td>Maneuvering</td>\n",
       "      <td>Probable Cause</td>\n",
       "      <td>27-10-2005</td>\n",
       "      <td>NaN</td>\n",
       "      <td>NaN</td>\n",
       "      <td>NaN</td>\n",
       "    </tr>\n",
       "    <tr>\n",
       "      <th>52255</th>\n",
       "      <td>20020417X00527</td>\n",
       "      <td>Accident</td>\n",
       "      <td>DEN02LA038</td>\n",
       "      <td>2002-03-14</td>\n",
       "      <td>ST. GEORGE, UT</td>\n",
       "      <td>United States</td>\n",
       "      <td>37.088055</td>\n",
       "      <td>-113.591944</td>\n",
       "      <td>SGU</td>\n",
       "      <td>St. George Municipal Airport</td>\n",
       "      <td>...</td>\n",
       "      <td>NaN</td>\n",
       "      <td>NaN</td>\n",
       "      <td>1.0</td>\n",
       "      <td>VMC</td>\n",
       "      <td>Landing</td>\n",
       "      <td>Probable Cause</td>\n",
       "      <td>20-09-2002</td>\n",
       "      <td>NaN</td>\n",
       "      <td>NaN</td>\n",
       "      <td>NaN</td>\n",
       "    </tr>\n",
       "  </tbody>\n",
       "</table>\n",
       "<p>10 rows × 34 columns</p>\n",
       "</div>"
      ],
      "text/plain": [
       "             Event_Id Investigation_Type Accident_Number  Event_Date  \\\n",
       "54409  20030411X00490           Accident      LAX03FA124  2003-04-04   \n",
       "58631  20050721X01070           Accident      ANC05LA076  2005-05-14   \n",
       "56725  20040615X00796           Accident      NYC04CA131  2004-05-25   \n",
       "57308  20040827X01297           Accident     NYC04LA194B  2004-08-17   \n",
       "54466  20030423X00555           Accident      NYC03FA082  2003-04-12   \n",
       "48307  20010606X01082           Accident      NYC00WA271  2000-05-05   \n",
       "55182  20030729X01212           Accident      CHI03LA225  2003-07-25   \n",
       "63174  20070928X01474           Accident      LAX07CA252  2007-08-15   \n",
       "58232  20050303X00257           Accident      DEN05LA059  2005-02-26   \n",
       "52255  20020417X00527           Accident      DEN02LA038  2002-03-14   \n",
       "\n",
       "                  Location        Country   Latitude    Longitude  \\\n",
       "54409  North Las Vegas, NV  United States  36.293055  -115.348055   \n",
       "58631       DILLINGHAM, AK  United States  59.033333       -158.5   \n",
       "56725       NEW CASTLE, PA  United States  40.941111     -80.3475   \n",
       "57308     Philadelphia, PA  United States  40.081667   -75.010556   \n",
       "54466          Conesus, NY  United States  42.681111   -77.615833   \n",
       "48307      Mattawa, Canada         Canada        NaN          NaN   \n",
       "55182          MADISON, WI  United States     43.105   -89.185555   \n",
       "63174          OLYMPIA, WA  United States  46.969445    -122.9025   \n",
       "58232           KAYCEE, WY  United States  43.664722  -106.705556   \n",
       "52255       ST. GEORGE, UT  United States  37.088055  -113.591944   \n",
       "\n",
       "      Airport_Code                    Airport_Name  ...  \\\n",
       "54409         KVGT         North Las Vegas Airport  ...   \n",
       "58631          DLG                      Dillingham  ...   \n",
       "56725         NONE                             NaN  ...   \n",
       "57308          PNE  Northeast Philadelphia Airport  ...   \n",
       "54466          NaN                             NaN  ...   \n",
       "48307          NaN                             NaN  ...   \n",
       "55182          87Y              Blackhawk Airfield  ...   \n",
       "63174          OLM                 Olympia Airport  ...   \n",
       "58232          NaN                             NaN  ...   \n",
       "52255          SGU    St. George Municipal Airport  ...   \n",
       "\n",
       "      Total_Serious_Injuries Total_Minor_Injuries Total_Uninjured  \\\n",
       "54409                    NaN                  NaN             NaN   \n",
       "58631                    NaN                  NaN             3.0   \n",
       "56725                    NaN                  NaN             1.0   \n",
       "57308                    NaN                  NaN             2.0   \n",
       "54466                    NaN                  NaN             NaN   \n",
       "48307                    NaN                  NaN             NaN   \n",
       "55182                    NaN                  NaN             2.0   \n",
       "63174                    NaN                  NaN             1.0   \n",
       "58232                    NaN                  NaN             NaN   \n",
       "52255                    NaN                  NaN             1.0   \n",
       "\n",
       "      Weather_Condition Broad_Phase_Of_Flight   Report_Status  \\\n",
       "54409               VMC           Maneuvering  Probable Cause   \n",
       "58631               VMC               Landing  Probable Cause   \n",
       "56725               VMC               Takeoff  Probable Cause   \n",
       "57308               VMC                  Taxi  Probable Cause   \n",
       "54466               VMC           Maneuvering  Probable Cause   \n",
       "48307               IMC                   NaN         Foreign   \n",
       "55182               VMC               Takeoff  Probable Cause   \n",
       "63174               VMC               Landing  Probable Cause   \n",
       "58232               VMC           Maneuvering  Probable Cause   \n",
       "52255               VMC               Landing  Probable Cause   \n",
       "\n",
       "      Publication_Date  Total_Passengers Fatal_Injury_Proportion  \\\n",
       "54409       07-07-2005               NaN                     NaN   \n",
       "58631       20-12-2005               NaN                     NaN   \n",
       "56725       01-09-2004               NaN                     NaN   \n",
       "57308       28-04-2005               NaN                     NaN   \n",
       "54466       08-06-2005               NaN                     NaN   \n",
       "48307       06-06-2001               NaN                     NaN   \n",
       "55182       29-07-2004               NaN                     NaN   \n",
       "63174       29-11-2007               NaN                     NaN   \n",
       "58232       27-10-2005               NaN                     NaN   \n",
       "52255       20-09-2002               NaN                     NaN   \n",
       "\n",
       "      Uninjured_Proportion  \n",
       "54409                  NaN  \n",
       "58631                  NaN  \n",
       "56725                  NaN  \n",
       "57308                  NaN  \n",
       "54466                  NaN  \n",
       "48307                  NaN  \n",
       "55182                  NaN  \n",
       "63174                  NaN  \n",
       "58232                  NaN  \n",
       "52255                  NaN  \n",
       "\n",
       "[10 rows x 34 columns]"
      ]
     },
     "execution_count": 48,
     "metadata": {},
     "output_type": "execute_result"
    }
   ],
   "source": [
    "# This code is used to investigate rows where 'Fatal_Injuries_Proportion' is NaN.\n",
    "# By selecting a random sample of 10 such rows, we can manually inspect these cases and better understand why these undefined values might be occurring.\n",
    "aviation_accidents_df_copy[aviation_accidents_df_copy['Fatal_Injury_Proportion'].isna()].sample(10)"
   ]
  },
  {
   "cell_type": "code",
   "execution_count": 50,
   "metadata": {},
   "outputs": [],
   "source": [
    "# Drop all NaNs in new 'injured' columns \n",
    "aviation_accidents_df_copy.dropna(subset=['Total_Fatal_Injuries', 'Total_Serious_Injuries', 'Total_Minor_Injuries', 'Total_Uninjured', 'Fatal_Injury_Proportion', 'Uninjured_Proportion'], inplace=True)"
   ]
  },
  {
   "cell_type": "markdown",
   "metadata": {},
   "source": [
    "I subset my data further into `top_4_makes`. This is a subset of the 4 most common passenger plane manufacturers according to [Investopedia](https://www.investopedia.com/ask/answers/050415/what-companies-are-major-players-airline-supply-business.asp). I standardize the names of the 4 manufacturers. I've excluded Lockheed Martin because they're mostly involved in military aircraft."
   ]
  },
  {
   "cell_type": "code",
   "execution_count": 53,
   "metadata": {},
   "outputs": [
    {
     "data": {
      "text/html": [
       "<div>\n",
       "<style scoped>\n",
       "    .dataframe tbody tr th:only-of-type {\n",
       "        vertical-align: middle;\n",
       "    }\n",
       "\n",
       "    .dataframe tbody tr th {\n",
       "        vertical-align: top;\n",
       "    }\n",
       "\n",
       "    .dataframe thead th {\n",
       "        text-align: right;\n",
       "    }\n",
       "</style>\n",
       "<table border=\"1\" class=\"dataframe\">\n",
       "  <thead>\n",
       "    <tr style=\"text-align: right;\">\n",
       "      <th></th>\n",
       "      <th>Event_Id</th>\n",
       "      <th>Investigation_Type</th>\n",
       "      <th>Accident_Number</th>\n",
       "      <th>Event_Date</th>\n",
       "      <th>Location</th>\n",
       "      <th>Country</th>\n",
       "      <th>Latitude</th>\n",
       "      <th>Longitude</th>\n",
       "      <th>Airport_Code</th>\n",
       "      <th>Airport_Name</th>\n",
       "      <th>...</th>\n",
       "      <th>Total_Serious_Injuries</th>\n",
       "      <th>Total_Minor_Injuries</th>\n",
       "      <th>Total_Uninjured</th>\n",
       "      <th>Weather_Condition</th>\n",
       "      <th>Broad_Phase_Of_Flight</th>\n",
       "      <th>Report_Status</th>\n",
       "      <th>Publication_Date</th>\n",
       "      <th>Total_Passengers</th>\n",
       "      <th>Fatal_Injury_Proportion</th>\n",
       "      <th>Uninjured_Proportion</th>\n",
       "    </tr>\n",
       "  </thead>\n",
       "  <tbody>\n",
       "    <tr>\n",
       "      <th>50</th>\n",
       "      <td>20020917X02242</td>\n",
       "      <td>Accident</td>\n",
       "      <td>LAX82DVA10</td>\n",
       "      <td>1982-01-06</td>\n",
       "      <td>NEAR BAKERSFIEL, CA</td>\n",
       "      <td>United States</td>\n",
       "      <td>NaN</td>\n",
       "      <td>NaN</td>\n",
       "      <td>NaN</td>\n",
       "      <td>NaN</td>\n",
       "      <td>...</td>\n",
       "      <td>1.0</td>\n",
       "      <td>0.0</td>\n",
       "      <td>1.0</td>\n",
       "      <td>IMC</td>\n",
       "      <td>Cruise</td>\n",
       "      <td>Probable Cause</td>\n",
       "      <td>06-01-1983</td>\n",
       "      <td>2.0</td>\n",
       "      <td>0.000000</td>\n",
       "      <td>0.5</td>\n",
       "    </tr>\n",
       "    <tr>\n",
       "      <th>80</th>\n",
       "      <td>20020917X01765</td>\n",
       "      <td>Incident</td>\n",
       "      <td>ATL82IA034</td>\n",
       "      <td>1982-01-12</td>\n",
       "      <td>CLARKSBURG, WV</td>\n",
       "      <td>United States</td>\n",
       "      <td>NaN</td>\n",
       "      <td>NaN</td>\n",
       "      <td>CKB</td>\n",
       "      <td>BENEDUM</td>\n",
       "      <td>...</td>\n",
       "      <td>0.0</td>\n",
       "      <td>0.0</td>\n",
       "      <td>2.0</td>\n",
       "      <td>VMC</td>\n",
       "      <td>Taxi</td>\n",
       "      <td>Probable Cause</td>\n",
       "      <td>12-01-1983</td>\n",
       "      <td>2.0</td>\n",
       "      <td>0.000000</td>\n",
       "      <td>1.0</td>\n",
       "    </tr>\n",
       "    <tr>\n",
       "      <th>84</th>\n",
       "      <td>20020917X01907</td>\n",
       "      <td>Accident</td>\n",
       "      <td>DCA82AA011</td>\n",
       "      <td>1982-01-13</td>\n",
       "      <td>WASHINGTON, DC</td>\n",
       "      <td>United States</td>\n",
       "      <td>NaN</td>\n",
       "      <td>NaN</td>\n",
       "      <td>NaN</td>\n",
       "      <td>WASHINGTON NATIONAL</td>\n",
       "      <td>...</td>\n",
       "      <td>6.0</td>\n",
       "      <td>3.0</td>\n",
       "      <td>0.0</td>\n",
       "      <td>IMC</td>\n",
       "      <td>Takeoff</td>\n",
       "      <td>Probable Cause</td>\n",
       "      <td>13-01-1983</td>\n",
       "      <td>87.0</td>\n",
       "      <td>0.896552</td>\n",
       "      <td>0.0</td>\n",
       "    </tr>\n",
       "    <tr>\n",
       "      <th>242</th>\n",
       "      <td>20020917X02585</td>\n",
       "      <td>Accident</td>\n",
       "      <td>SEA82DA028A</td>\n",
       "      <td>1982-02-06</td>\n",
       "      <td>MEDFORD, OR</td>\n",
       "      <td>United States</td>\n",
       "      <td>NaN</td>\n",
       "      <td>NaN</td>\n",
       "      <td>MFR</td>\n",
       "      <td>MEDFORD-JACKSON COUNTY</td>\n",
       "      <td>...</td>\n",
       "      <td>0.0</td>\n",
       "      <td>0.0</td>\n",
       "      <td>3.0</td>\n",
       "      <td>VMC</td>\n",
       "      <td>Taxi</td>\n",
       "      <td>Probable Cause</td>\n",
       "      <td>06-02-1983</td>\n",
       "      <td>3.0</td>\n",
       "      <td>0.000000</td>\n",
       "      <td>1.0</td>\n",
       "    </tr>\n",
       "    <tr>\n",
       "      <th>320</th>\n",
       "      <td>20020917X02336</td>\n",
       "      <td>Incident</td>\n",
       "      <td>LAX82IA075</td>\n",
       "      <td>1982-02-15</td>\n",
       "      <td>ONTARIO, CA</td>\n",
       "      <td>United States</td>\n",
       "      <td>NaN</td>\n",
       "      <td>NaN</td>\n",
       "      <td>ONT</td>\n",
       "      <td>ONTARIO INTERNATIONAL</td>\n",
       "      <td>...</td>\n",
       "      <td>0.0</td>\n",
       "      <td>0.0</td>\n",
       "      <td>119.0</td>\n",
       "      <td>IMC</td>\n",
       "      <td>Approach</td>\n",
       "      <td>Probable Cause</td>\n",
       "      <td>15-02-1983</td>\n",
       "      <td>119.0</td>\n",
       "      <td>0.000000</td>\n",
       "      <td>1.0</td>\n",
       "    </tr>\n",
       "  </tbody>\n",
       "</table>\n",
       "<p>5 rows × 34 columns</p>\n",
       "</div>"
      ],
      "text/plain": [
       "           Event_Id Investigation_Type Accident_Number  Event_Date  \\\n",
       "50   20020917X02242           Accident      LAX82DVA10  1982-01-06   \n",
       "80   20020917X01765           Incident      ATL82IA034  1982-01-12   \n",
       "84   20020917X01907           Accident      DCA82AA011  1982-01-13   \n",
       "242  20020917X02585           Accident     SEA82DA028A  1982-02-06   \n",
       "320  20020917X02336           Incident      LAX82IA075  1982-02-15   \n",
       "\n",
       "                Location        Country Latitude Longitude Airport_Code  \\\n",
       "50   NEAR BAKERSFIEL, CA  United States      NaN       NaN          NaN   \n",
       "80        CLARKSBURG, WV  United States      NaN       NaN          CKB   \n",
       "84        WASHINGTON, DC  United States      NaN       NaN          NaN   \n",
       "242          MEDFORD, OR  United States      NaN       NaN          MFR   \n",
       "320          ONTARIO, CA  United States      NaN       NaN          ONT   \n",
       "\n",
       "               Airport_Name  ... Total_Serious_Injuries Total_Minor_Injuries  \\\n",
       "50                      NaN  ...                    1.0                  0.0   \n",
       "80                  BENEDUM  ...                    0.0                  0.0   \n",
       "84      WASHINGTON NATIONAL  ...                    6.0                  3.0   \n",
       "242  MEDFORD-JACKSON COUNTY  ...                    0.0                  0.0   \n",
       "320   ONTARIO INTERNATIONAL  ...                    0.0                  0.0   \n",
       "\n",
       "    Total_Uninjured Weather_Condition Broad_Phase_Of_Flight   Report_Status  \\\n",
       "50              1.0               IMC                Cruise  Probable Cause   \n",
       "80              2.0               VMC                  Taxi  Probable Cause   \n",
       "84              0.0               IMC               Takeoff  Probable Cause   \n",
       "242             3.0               VMC                  Taxi  Probable Cause   \n",
       "320           119.0               IMC              Approach  Probable Cause   \n",
       "\n",
       "    Publication_Date  Total_Passengers Fatal_Injury_Proportion  \\\n",
       "50        06-01-1983               2.0                0.000000   \n",
       "80        12-01-1983               2.0                0.000000   \n",
       "84        13-01-1983              87.0                0.896552   \n",
       "242       06-02-1983               3.0                0.000000   \n",
       "320       15-02-1983             119.0                0.000000   \n",
       "\n",
       "    Uninjured_Proportion  \n",
       "50                   0.5  \n",
       "80                   1.0  \n",
       "84                   0.0  \n",
       "242                  1.0  \n",
       "320                  1.0  \n",
       "\n",
       "[5 rows x 34 columns]"
      ]
     },
     "execution_count": 53,
     "metadata": {},
     "output_type": "execute_result"
    }
   ],
   "source": [
    "# Replaces NaN values in the 'Make' column with 'None'\n",
    "aviation_accidents_df_copy['Make'] = aviation_accidents_df_copy['Make'].fillna('None')\n",
    "\n",
    "# Creates new DF 'top_4_makes' from aviation_accidents_df_copy with top 4 models i.e. Boeing, Airbus, Bombardier, Embraer\n",
    "top_4_makes = aviation_accidents_df_copy[aviation_accidents_df_copy['Make'].str.contains('|'.join(['Boeing', 'Airbus', 'Bombardier', 'Embraer']))]\n",
    "top_4_makes.head()"
   ]
  },
  {
   "cell_type": "code",
   "execution_count": 54,
   "metadata": {},
   "outputs": [
    {
     "data": {
      "text/plain": [
       "Make\n",
       "Boeing                            1031\n",
       "Airbus Industrie                    69\n",
       "Embraer                             55\n",
       "Boeing Stearman                     33\n",
       "Airbus                              16\n",
       "Bombardier                           8\n",
       "Bombardier, Inc.                     8\n",
       "Boeing Vertol                        5\n",
       "Boeing - Canada (de Havilland)       2\n",
       "Airbus Helicopters                   2\n",
       "Boeing-brown                         1\n",
       "Embraer Aircraft                     1\n",
       "Bombardier Canadair                  1\n",
       "Airbus Helicopters (Eurocopte        1\n",
       "Airbus Helicopters Deutschland       1\n",
       "Boeing (Stearman)                    1\n",
       "Name: count, dtype: int64"
      ]
     },
     "execution_count": 54,
     "metadata": {},
     "output_type": "execute_result"
    }
   ],
   "source": [
    "# View the different variations of the 'Make' names\n",
    "top_4_makes['Make'].value_counts()"
   ]
  },
  {
   "cell_type": "markdown",
   "metadata": {},
   "source": [
    "### Standardizing the 'Make' names\n",
    "This code is standardizing the names of the aircraft manufacturers in the ‘Make’ column of the aviation_accidents_df_copy DataFrame. It checks if the name of the manufacturer is one of the top 4 most common manufacturers (`Boeing`, `Airbus`, `Embraer`, `Bombardier`), and if so, it replaces the name with the standardized name. If the name is not one of the top 4 manufacturers, it leaves the name as is. "
   ]
  },
  {
   "cell_type": "code",
   "execution_count": 68,
   "metadata": {},
   "outputs": [],
   "source": [
    "# Defines the conditions for each manufacturer. If the 'Make' column contains the name of the manufacturer,\n",
    "# the condition will be True for that row\n",
    "conditions = [\n",
    "    aviation_accidents_df_copy['Make'].str.contains('Boeing'),\n",
    "    aviation_accidents_df_copy['Make'].str.contains('Airbus'),\n",
    "    aviation_accidents_df_copy['Make'].str.contains('Embraer'),\n",
    "    aviation_accidents_df_copy['Make'].str.contains('Bombardier')\n",
    "]\n",
    "\n",
    "# Defines the choices corresponding to each condition. If a condition is True, the corresponding choice will be used\n",
    "choices = ['Boeing', 'Airbus', 'Embraer', 'Bombardier']\n",
    "\n",
    "# Uses numpy's select function to create a new 'Make' column. For each row, if the condition is True, \n",
    "# the corresponding choice is used. If none of the conditions are True, the default value is used (original 'Make' value)\n",
    "aviation_accidents_df_copy['Make'] = np.select(conditions, choices, default=aviation_accidents_df_copy['Make'])"
   ]
  },
  {
   "cell_type": "code",
   "execution_count": 69,
   "metadata": {},
   "outputs": [
    {
     "name": "stdout",
     "output_type": "stream",
     "text": [
      "Make\n",
      "Boeing        1073\n",
      "Airbus          89\n",
      "Embraer         56\n",
      "Bombardier      17\n",
      "Name: count, dtype: int64\n"
     ]
    }
   ],
   "source": [
    "# Filters the DF to include only rows where 'Make' is one of the specified manufacturers\n",
    "filtered_df = aviation_accidents_df_copy[aviation_accidents_df_copy['Make'].isin(['Boeing', 'Airbus', 'Embraer', 'Bombardier'])]\n",
    "\n",
    "# Applies value_counts() to the 'Make' column of the filtered DF\n",
    "print(filtered_df['Make'].value_counts())"
   ]
  },
  {
   "cell_type": "markdown",
   "metadata": {},
   "source": [
    "### Standardizing 'Model' names"
   ]
  },
  {
   "cell_type": "code",
   "execution_count": 75,
   "metadata": {},
   "outputs": [],
   "source": [
    "# Defines a dictionary for model name replacements\n",
    "model_name_dict = {'DHC8': 'DHC-8', 'CL600': 'CL-600', 'CL600-2B19': 'CL-600-2B19', \n",
    "                   'BD700-1A10': 'BD-700-1A10', 'BD100-1A10': 'BD-100-1A10', 'CL600-2D24---900': 'CL600-2D24-900'}\n",
    "\n",
    "# Replace model names in the 'Model' column\n",
    "filtered_df.loc[:, 'Model'] = filtered_df['Model'].replace(model_name_dict)"
   ]
  },
  {
   "cell_type": "code",
   "execution_count": 77,
   "metadata": {},
   "outputs": [],
   "source": [
    "# Export the clean data frame using df.to_csv()\n",
    "filtered_df.to_csv('data/clean_data.csv', index=False)"
   ]
  },
  {
   "cell_type": "markdown",
   "metadata": {},
   "source": [
    "### Exploratory Analysis\n",
    "#### Analysis by Make\n",
    "I plot to compare the top 4 aircraft makes to show the average number of serious, minor, and fatal injuries per accident. The bar chart shows that Bombardier is the top aircraft manufacturer with the least average number of total injuries. Airbus has the highest average number of minor, serious, and fatal injuries."
   ]
  },
  {
   "cell_type": "code",
   "execution_count": 95,
   "metadata": {},
   "outputs": [
    {
     "data": {
      "text/plain": [
       "(array([0, 1, 2, 3]),\n",
       " [Text(0, 0, 'Bombardier'),\n",
       "  Text(1, 0, 'Embraer'),\n",
       "  Text(2, 0, 'Boeing'),\n",
       "  Text(3, 0, 'Airbus')])"
      ]
     },
     "execution_count": 95,
     "metadata": {},
     "output_type": "execute_result"
    },
    {
     "data": {
      "image/png": "[encoded data removed]",
      "text/plain": [
       "<Figure size 640x480 with 1 Axes>"
      ]
     },
     "metadata": {},
     "output_type": "display_data"
    }
   ],
   "source": [
    "# Plots a bar chart of Aircraft Make by Number of Injuries\n",
    "sns.set_theme(style='whitegrid', context='notebook')\n",
    "\n",
    "# Creates stacked bar plot\n",
    "ax = filtered_df.groupby(['Make'])[['Total_Fatal_Injuries', 'Total_Minor_Injuries', 'Total_Serious_Injuries']]\\\n",
    "    .mean().sort_values(by='Total_Fatal_Injuries', ascending=True).head().plot(kind='bar', stacked=True)\n",
    "ax.set_title('Average Fatal, Minor, and Serious Injuries by Make')\n",
    "ax.set_xlabel('Make')\n",
    "ax.set_ylabel('Average Number of Injuries');\n",
    "plt.tight_layout()\n",
    "\n",
    "# Rotate x-axis labels by 45 degrees\n",
    "plt.xticks(rotation=45)"
   ]
  },
  {
   "cell_type": "markdown",
   "metadata": {},
   "source": [
    "Next, I analyze the fatality rate by aircraft make. Embraer has the highest fatality rate among the four. "
   ]
  },
  {
   "cell_type": "code",
   "execution_count": 88,
   "metadata": {},
   "outputs": [],
   "source": [
    "# Drop all NaNs in new 'injured' columns \n",
    "filtered_df = filtered_df.dropna(subset=['Total_Fatal_Injuries', 'Total_Serious_Injuries', 'Total_Minor_Injuries', 'Total_Uninjured', 'Fatal_Injury_Proportion', 'Uninjured_Proportion'])"
   ]
  },
  {
   "cell_type": "code",
   "execution_count": 115,
   "metadata": {},
   "outputs": [
    {
     "data": {
      "text/plain": [
       "(array([0, 1, 2, 3]),\n",
       " [Text(0, 0, 'Boeing'),\n",
       "  Text(1, 0, 'Airbus'),\n",
       "  Text(2, 0, 'Embraer'),\n",
       "  Text(3, 0, 'Bombardier')])"
      ]
     },
     "execution_count": 115,
     "metadata": {},
     "output_type": "execute_result"
    },
    {
     "data": {
      "image/png": "[encoded data removed]",
      "text/plain": [
       "<Figure size 640x480 with 1 Axes>"
      ]
     },
     "metadata": {},
     "output_type": "display_data"
    }
   ],
   "source": [
    "# Create bar chart\n",
    "ax = sns.barplot(data=filtered_df.sort_values('Fatal_Injury_Proportion'), \n",
    "                 x='Make', \n",
    "                 y='Fatal_Injury_Proportion',\n",
    "                 errorbar=None)\n",
    "ax.bar_label(ax.containers[0], fontsize=10);\n",
    "ax.set(xlabel='Make', ylabel='Fatality Rate', title='Fatality Rate By Aircraft Make');\n",
    "\n",
    "# Rotate x-axis labels\n",
    "plt.xticks(rotation=45)"
   ]
  },
  {
   "cell_type": "markdown",
   "metadata": {},
   "source": [
    "Next, I analyzed the uninjured rate by aircraft make. Airbus has the highest uninjured rate of 90%. The other manufacturers follow closely with a rate of between 77 and 88%."
   ]
  },
  {
   "cell_type": "code",
   "execution_count": 117,
   "metadata": {},
   "outputs": [
    {
     "data": {
      "image/png": "[encoded data removed]",
      "text/plain": [
       "<Figure size 640x480 with 1 Axes>"
      ]
     },
     "metadata": {},
     "output_type": "display_data"
    }
   ],
   "source": [
    "# Create bar plot\n",
    "ax = sns.barplot(data=filtered_df, x='Make', y='Uninjured_Proportion')\n",
    "ax.bar_label(ax.containers[0], fontsize=10);\n",
    "ax.set(xlabel='Make', ylabel='Uninjured Rate', title='Uninjured Rate By Make');"
   ]
  },
  {
   "cell_type": "markdown",
   "metadata": {},
   "source": [
    "### Analysis by Number of Engines\n",
    "Aircrafts with 3 engines hold both the highest uninjured rate and the lowest fatality rate, followed by aircrafts with 2 engines, aircrafts with 4 engines, aircafts with 1 engine, and lastly, aircrafts with 0 engines. Aircrafts with 0 engines (gliders) have the lowest uninjured rate but the highest fatality rate."
   ]
  },
  {
   "cell_type": "code",
   "execution_count": 100,
   "metadata": {},
   "outputs": [
    {
     "data": {
      "text/plain": [
       "(array([0, 1, 2, 3, 4]),\n",
       " [Text(0, 0, '0.0'),\n",
       "  Text(1, 0, '1.0'),\n",
       "  Text(2, 0, '4.0'),\n",
       "  Text(3, 0, '2.0'),\n",
       "  Text(4, 0, '3.0')])"
      ]
     },
     "execution_count": 100,
     "metadata": {},
     "output_type": "execute_result"
    },
    {
     "data": {
      "image/png": "[encoded data removed]",
      "text/plain": [
       "<Figure size 640x480 with 1 Axes>"
      ]
     },
     "metadata": {},
     "output_type": "display_data"
    }
   ],
   "source": [
    "# Create bar plot\n",
    "ax = filtered_df.groupby(['Number_Of_Engines'])[['Fatal_Injury_Proportion', 'Uninjured_Proportion']]\\\n",
    "    .mean().sort_values(by='Uninjured_Proportion', ascending=True).plot(kind='bar', stacked=False);\n",
    "ax.set(xlabel='Number of Engines', ylabel='Average Rate', title='Fatality and Uninjured Rates By Number of Engines');\n",
    "plt.tight_layout()\n",
    "\n",
    "# Rotate x-axis labels\n",
    "plt.xticks(rotation=45)"
   ]
  },
  {
   "cell_type": "markdown",
   "metadata": {},
   "source": [
    "### Analysis by Aircraft Model\n",
    "I've decided to recommend the purchase of Airbus 2 engine jets because of their low fatality, high uninjured rate and high model variety (There are 34 models to choose from)."
   ]
  },
  {
   "cell_type": "code",
   "execution_count": 106,
   "metadata": {},
   "outputs": [
    {
     "name": "stdout",
     "output_type": "stream",
     "text": [
      "There are 34 double engine Airbus aircraft models to choose from.\n"
     ]
    }
   ],
   "source": [
    "# According to the data, I'm leaning towards recommending the purchase of Airbus planes because they have the highest\n",
    "# uninjured rate and the lowest fatality rate\n",
    "# Airbus doesn't make 3-engine planes,\n",
    "# Airbus' 4-engine planes, the A340 and A380 have ceased production in favour of 2-engine models\n",
    "make_options = filtered_df['Model'][(filtered_df['Make']=='Airbus') & (filtered_df['Number_Of_Engines']==2)] \n",
    "num_make_options = make_options.nunique()\n",
    "print(f'There are {num_make_options} double engine Airbus aircraft models to choose from.')"
   ]
  },
  {
   "cell_type": "code",
   "execution_count": 107,
   "metadata": {},
   "outputs": [
    {
     "data": {
      "text/plain": [
       "Model\n",
       "A320              7\n",
       "A320-211          5\n",
       "A-320-231         5\n",
       "A-300B4-605R      4\n",
       "A319              4\n",
       "A-300-B4-203      4\n",
       "A321              4\n",
       "A-300             4\n",
       "A-300-600         3\n",
       "A-300-600R        2\n",
       "A-320-211         2\n",
       "A330              2\n",
       "A319-114          2\n",
       "A-320-232         2\n",
       "A-300B4-2C        2\n",
       "A-300-605R        2\n",
       "A-310-324         1\n",
       "A300B4-2C         1\n",
       "A-310             1\n",
       "MBB-BK-117-B-2    1\n",
       "A330-323          1\n",
       "A300B4-203        1\n",
       "A300B4-605R       1\n",
       "A320-232          1\n",
       "A-310-200         1\n",
       "A-300-600ER       1\n",
       "A-320-212         1\n",
       "A300-B4-203       1\n",
       "A310              1\n",
       "AE-340-300        1\n",
       "A-320             1\n",
       "A-310-222         1\n",
       "A-300-B4-103      1\n",
       "319-131           1\n",
       "Name: count, dtype: int64"
      ]
     },
     "execution_count": 107,
     "metadata": {},
     "output_type": "execute_result"
    }
   ],
   "source": [
    "# This shows the number of 2-engine Airbus jets in our dataset. \n",
    "filtered_df[(filtered_df['Make']=='Airbus') & (filtered_df['Number_Of_Engines'] == 2)]['Model'].value_counts()"
   ]
  },
  {
   "cell_type": "code",
   "execution_count": 111,
   "metadata": {},
   "outputs": [
    {
     "data": {
      "image/png": "[encoded data removed]",
      "text/plain": [
       "<Figure size 640x480 with 1 Axes>"
      ]
     },
     "metadata": {},
     "output_type": "display_data"
    }
   ],
   "source": [
    "# Plot bar graph of Uninjured Rates by Airbus Model\n",
    "ax = filtered_df[(filtered_df['Make']=='Airbus') & (filtered_df['Number_Of_Engines'] == 2)].groupby(['Model'])\\\n",
    "    [['Uninjured_Proportion']].mean().sort_values(by='Uninjured_Proportion', ascending=True).plot(kind='bar', stacked=True)\n",
    "ax.set(xlabel='Model', ylabel='Uninjured Rate', title='Uninjured Rate By Airbus Model');"
   ]
  },
  {
   "cell_type": "markdown",
   "metadata": {},
   "source": [
    "Next, I'll count the number of Airbus models with a 100% uninjured rate. I've found out that there are 21 models. That's plenty to choose from."
   ]
  },
  {
   "cell_type": "code",
   "execution_count": 121,
   "metadata": {},
   "outputs": [
    {
     "name": "stdout",
     "output_type": "stream",
     "text": [
      "Number of Airbus models with a 100% uninjured rate: 21\n"
     ]
    }
   ],
   "source": [
    "# Filter DF for rows where 'Uninjured_Proportion' is 1.0\n",
    "uninjured_df = filtered_df[(filtered_df['Make']=='Airbus') & (filtered_df['Number_Of_Engines'] == 2) & (filtered_df['Uninjured_Proportion'] == 1.0)]\n",
    "\n",
    "# Count unique 'Model' values\n",
    "num_models = uninjured_df['Model'].nunique()\n",
    "\n",
    "print(f\"Number of Airbus models with a 100% uninjured rate: {num_models}\")"
   ]
  },
  {
   "cell_type": "markdown",
   "metadata": {},
   "source": [
    "Now, I plot the number of occurences of the safest Airbus models. This will provide insights into the following: \n",
    "1. Frequency of use/Popularity - this gives us an idea about how frequently each model is used. Models with higher occurences are likely to be more common.\n",
    "2. Highlight safety record"
   ]
  },
  {
   "cell_type": "code",
   "execution_count": 122,
   "metadata": {},
   "outputs": [
    {
     "data": {
      "image/png": "[encoded data removed]",
      "text/plain": [
       "<Figure size 640x480 with 1 Axes>"
      ]
     },
     "metadata": {},
     "output_type": "display_data"
    }
   ],
   "source": [
    "# Gets the 21 safest Airbus models\n",
    "safest_airbus_models = uninjured_df['Model'].unique()\n",
    "\n",
    "# Filter the DataFrame for rows where 'Model' is in safest_airbus_models\n",
    "safest_airbus_models_count = filtered_df[filtered_df['Model'].isin(safest_airbus_models)]\n",
    "\n",
    "# Plots the number of occurrences of each of the safest Airbus models\n",
    "ax = safest_airbus_models_count['Model'].value_counts().plot(kind='bar')\n",
    "ax.set(xlabel='Model', ylabel='Number of Occurrences', title='Number of Occurrences of the Safest Airbus Models');"
   ]
  }
 ],
 "metadata": {
  "kernelspec": {
   "display_name": "Python (learn-env)",
   "language": "python",
   "name": "learn-env"
  },
  "language_info": {
   "codemirror_mode": {
    "name": "ipython",
    "version": 3
   },
   "file_extension": ".py",
   "mimetype": "text/x-python",
   "name": "python",
   "nbconvert_exporter": "python",
   "pygments_lexer": "ipython3",
   "version": "3.10.14"
  }
 },
 "nbformat": 4,
 "nbformat_minor": 2
}
